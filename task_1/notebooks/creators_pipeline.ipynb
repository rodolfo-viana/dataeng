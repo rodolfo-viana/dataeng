{
 "cells": [
  {
   "cell_type": "code",
   "execution_count": 0,
   "metadata": {
    "application/vnd.databricks.v1+cell": {
     "cellMetadata": {
      "byteLimit": 2048000,
      "rowLimit": 10000
     },
     "inputWidgets": {},
     "nuid": "4977a9a7-2d0f-4c7a-a0fd-489a711cb6fc",
     "showTitle": false,
     "tableResultSettingsMap": {},
     "title": ""
    }
   },
   "outputs": [],
   "source": [
    "from pyspark.sql import SparkSession\n",
    "import logging\n",
    "import sys\n",
    "import os\n",
    "\n",
    "sys.path.append(os.path.join(os.path.dirname(os.path.abspath('')), 'src'))\n",
    "\n",
    "from utils.data_validation import valida_fonte, ler_fonte, valida_dados\n",
    "from utils.metadata_handler import adiciona_metadados\n",
    "from utils.table_operations import cria_tabela\n",
    "from config.pipeline_config import configura_bronze_creators, configura_silver_creators"
   ]
  },
  {
   "cell_type": "markdown",
   "metadata": {
    "application/vnd.databricks.v1+cell": {
     "cellMetadata": {
      "byteLimit": 2048000,
      "rowLimit": 10000
     },
     "inputWidgets": {},
     "nuid": "06019418-ae4f-47da-9e8f-5f73df9ad6b3",
     "showTitle": false,
     "tableResultSettingsMap": {},
     "title": ""
    }
   },
   "source": [
    "## Camada bronze"
   ]
  },
  {
   "cell_type": "code",
   "execution_count": 0,
   "metadata": {
    "application/vnd.databricks.v1+cell": {
     "cellMetadata": {
      "byteLimit": 2048000,
      "rowLimit": 10000
     },
     "inputWidgets": {},
     "nuid": "e2677316-3cb7-415a-9607-83866f1857cd",
     "showTitle": false,
     "tableResultSettingsMap": {},
     "title": ""
    }
   },
   "outputs": [
    {
     "output_type": "stream",
     "name": "stdout",
     "output_type": "stream",
     "text": [
      "Pipeline da camada bronze iniciado em 2025-08-19 23:23:14.621271\nFonte: /Volumes/workspace/default/dataeng_raw/wiki_pages.json.gz\n"
     ]
    }
   ],
   "source": [
    "bronze_config = configura_bronze_creators()\n",
    "filename = bronze_config[\"source_filename\"].split('.')[0]\n",
    "\n",
    "logging.basicConfig(level=getattr(logging, bronze_config[\"log_level\"]))\n",
    "logger = logging.getLogger(__name__)\n",
    "\n",
    "print(f\"Pipeline da camada bronze iniciado em {bronze_config['processing_timestamp']}\")\n",
    "print(f\"Fonte: {bronze_config['source']}\")"
   ]
  },
  {
   "cell_type": "code",
   "execution_count": 0,
   "metadata": {
    "application/vnd.databricks.v1+cell": {
     "cellMetadata": {
      "byteLimit": 2048000,
      "rowLimit": 10000
     },
     "inputWidgets": {},
     "nuid": "32d66800-f5bc-47a5-b2c9-e92d0ec7a81d",
     "showTitle": false,
     "tableResultSettingsMap": {},
     "title": ""
    }
   },
   "outputs": [
    {
     "output_type": "stream",
     "name": "stderr",
     "output_type": "stream",
     "text": [
      "INFO:utils.data_validation:Fonte validada: /Volumes/workspace/default/dataeng_raw/wiki_pages.json.gz\nINFO:utils.table_operations:Iniciada a criação da tabela delta na camada bronze: workspace.default.bronze_creators_scrape_wiki\nINFO:utils.table_operations:Metadados da tabela - Camada: bronze, Salvo em: workspace.default.bronze_creators_scrape_wiki\nINFO:utils.table_operations:Tabela criada em 2025-08-19T23:23:14.621271\nINFO:utils.table_operations:Linhas: 10\nINFO:utils.table_operations:Colunas: 1\nINFO:utils.table_operations:Batch ID: b604e6b8\nINFO:utils.table_operations:Contém dados: True\nINFO:utils.table_operations:Tabela criada com sucesso: workspace.default.bronze_creators_scrape_wiki\nINFO:utils.table_operations:Comentário com metadados adicionado com sucesso\n"
     ]
    },
    {
     "output_type": "stream",
     "name": "stdout",
     "output_type": "stream",
     "text": [
      "Camada bronze criada com sucesso!\n"
     ]
    }
   ],
   "source": [
    "try:\n",
    "    if not valida_fonte(spark, bronze_config):\n",
    "        raise FileNotFoundError(f\"Fonte inacessível: {bronze_config['source']}\")\n",
    "\n",
    "    bronze_df = ler_fonte(spark, bronze_config)\n",
    "    bronze_config = valida_dados(bronze_df, bronze_config)\n",
    "    bronze_df = adiciona_metadados(bronze_df, bronze_config)\n",
    "    \n",
    "    success = cria_tabela(spark, bronze_df, bronze_config)\n",
    "    if success:\n",
    "        print(\"Camada bronze criada com sucesso!\")\n",
    "    else:\n",
    "        raise Exception(\"Erro na criação da tabela bronze\")\n",
    "        \n",
    "except Exception as e:\n",
    "    print(f\"Erro ao processar camada bronze: {str(e)}\")\n",
    "    raise"
   ]
  },
  {
   "cell_type": "markdown",
   "metadata": {
    "application/vnd.databricks.v1+cell": {
     "cellMetadata": {
      "byteLimit": 2048000,
      "rowLimit": 10000
     },
     "inputWidgets": {},
     "nuid": "f49ac593-71a9-4a89-bd70-8dc85b84dd2a",
     "showTitle": false,
     "tableResultSettingsMap": {},
     "title": ""
    }
   },
   "source": [
    "## Camada silver"
   ]
  },
  {
   "cell_type": "code",
   "execution_count": 0,
   "metadata": {
    "application/vnd.databricks.v1+cell": {
     "cellMetadata": {
      "byteLimit": 2048000,
      "rowLimit": 10000
     },
     "inputWidgets": {},
     "nuid": "8a3c8c92-929b-4115-a544-f6c50650fd69",
     "showTitle": false,
     "tableResultSettingsMap": {},
     "title": ""
    }
   },
   "outputs": [
    {
     "output_type": "stream",
     "name": "stdout",
     "output_type": "stream",
     "text": [
      "Pipeline da camada silver iniciado em 2025-08-19 23:27:38.467454\nFonte: workspace.default.bronze_creators_scrape_wiki\n"
     ]
    }
   ],
   "source": [
    "silver_config = configura_silver_creators()\n",
    "\n",
    "logging.basicConfig(level=getattr(logging, silver_config[\"log_level\"]))\n",
    "logger = logging.getLogger(__name__)\n",
    "\n",
    "print(f\"Pipeline da camada silver iniciado em {silver_config['processing_timestamp']}\")\n",
    "print(f\"Fonte: {silver_config['source']}\")"
   ]
  },
  {
   "cell_type": "code",
   "execution_count": 0,
   "metadata": {
    "application/vnd.databricks.v1+cell": {
     "cellMetadata": {
      "byteLimit": 2048000,
      "rowLimit": 10000
     },
     "inputWidgets": {},
     "nuid": "0ff60ab3-cc75-43c9-8ce2-cbfd44231977",
     "showTitle": false,
     "tableResultSettingsMap": {},
     "title": ""
    }
   },
   "outputs": [
    {
     "output_type": "stream",
     "name": "stderr",
     "output_type": "stream",
     "text": [
      "INFO:utils.data_validation:Fonte validada: workspace.default.bronze_creators_scrape_wiki\nINFO:utils.table_operations:Iniciada a criação da tabela delta na camada silver: workspace.default.silver_creators_scrape_wiki\nINFO:utils.table_operations:Metadados da tabela - Camada: silver, Salvo em: workspace.default.silver_creators_scrape_wiki\nINFO:utils.table_operations:Tabela criada em 2025-08-19T23:27:38.467454\nINFO:utils.table_operations:Linhas: 10\nINFO:utils.table_operations:Colunas (exceto metadados): 1\nINFO:utils.table_operations:Contém dados: True\nINFO:utils.table_operations:Percentual de completude: 100.0%\nINFO:utils.table_operations:Problemas de qualidade: []\nINFO:utils.table_operations:Qualidade atestada: True\nINFO:utils.table_operations:Tabela criada com sucesso: workspace.default.silver_creators_scrape_wiki\nINFO:utils.table_operations:Comentário com metadados adicionado com sucesso\n"
     ]
    },
    {
     "output_type": "stream",
     "name": "stdout",
     "output_type": "stream",
     "text": [
      "Camada silver criada com sucesso!\n"
     ]
    }
   ],
   "source": [
    "try:\n",
    "    if not valida_fonte(spark, silver_config):\n",
    "        raise FileNotFoundError(f\"Fonte inacessível: {silver_config['source']}\")\n",
    "\n",
    "    silver_df = ler_fonte(spark, silver_config)\n",
    "    silver_config = valida_dados(silver_df, silver_config)\n",
    "    silver_df = adiciona_metadados(silver_df, silver_config)\n",
    "    \n",
    "    success = cria_tabela(spark, silver_df, silver_config)\n",
    "    if success:\n",
    "        print(\"Camada silver criada com sucesso!\")\n",
    "    else:\n",
    "        raise Exception(\"Erro na criação da tabela silver\")\n",
    "        \n",
    "except Exception as e:\n",
    "    print(f\"Erro ao processar camada silver: {str(e)}\")\n",
    "    raise"
   ]
  }
 ],
 "metadata": {
  "application/vnd.databricks.v1+notebook": {
   "computePreferences": null,
   "dashboards": [],
   "environmentMetadata": null,
   "inputWidgetPreferences": null,
   "language": "python",
   "notebookMetadata": {
    "pythonIndentUnit": 4
   },
   "notebookName": "creators_pipeline",
   "widgets": {}
  },
  "language_info": {
   "name": "python"
  }
 },
 "nbformat": 4,
 "nbformat_minor": 0
}