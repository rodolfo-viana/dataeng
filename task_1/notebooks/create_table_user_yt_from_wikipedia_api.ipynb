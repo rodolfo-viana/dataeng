{
 "cells": [
  {
   "cell_type": "code",
   "execution_count": 0,
   "metadata": {
    "application/vnd.databricks.v1+cell": {
     "cellMetadata": {
      "byteLimit": 2048000,
      "rowLimit": 10000
     },
     "inputWidgets": {},
     "nuid": "636a82e8-5d39-4010-a72c-c0e4600505a9",
     "showTitle": false,
     "tableResultSettingsMap": {},
     "title": ""
    }
   },
   "outputs": [],
   "source": [
    "from pyspark.sql import SparkSession\n",
    "from pyspark.sql import functions as F\n",
    "from pyspark.sql.types import StructType, StructField, StringType\n",
    "import requests\n",
    "import re\n",
    "import logging\n",
    "import time\n",
    "import sys\n",
    "import os\n",
    "from urllib.parse import unquote\n",
    "from datetime import datetime\n",
    "\n",
    "sys.path.append(os.path.join(os.path.dirname(os.path.abspath('')), 'src'))\n",
    "\n",
    "from utils.data_validation import valida_fonte, ler_fonte\n",
    "from utils.table_operations import cria_tabela\n",
    "from config.pipeline_config import configura_users_yt\n",
    "\n",
    "logging.basicConfig(level=logging.INFO)\n",
    "logger = logging.getLogger(__name__)"
   ]
  },
  {
   "cell_type": "code",
   "execution_count": 0,
   "metadata": {
    "application/vnd.databricks.v1+cell": {
     "cellMetadata": {
      "byteLimit": 2048000,
      "rowLimit": 10000
     },
     "inputWidgets": {},
     "nuid": "629f87c7-28a1-4e25-b66e-b107ff4a2d54",
     "showTitle": false,
     "tableResultSettingsMap": {},
     "title": ""
    }
   },
   "outputs": [],
   "source": [
    "config = configura_users_yt()\n",
    "\n",
    "# Páginas podem ser redirecionadas, então definimos o nome do creator\n",
    "# usando a API da Wikipedia para garantir que estamos pegando o nome correto\n",
    "def define_creator_wiki(creator, config=config):\n",
    "    try:\n",
    "        url = config[\"api_endpoint\"]\n",
    "        params = {\n",
    "            \"action\": \"parse\",\n",
    "            \"page\": creator,\n",
    "            \"format\": \"json\"\n",
    "        }\n",
    "\n",
    "        response = requests.get(url, params=params, timeout=10, headers=config['headers'])\n",
    "        response.raise_for_status()\n",
    "        data = response.json()\n",
    "        text = data['parse']['text']['*']\n",
    "        if 'Redirect to:' in text:\n",
    "            m = re.search(r'href=[\\'\"]/wiki/([^\\'\"#?]+)', text)\n",
    "            return unquote(m.group(1)) if m else None\n",
    "        else:\n",
    "            return creator\n",
    "    except Exception as e:\n",
    "        logger.error(f\"Erro ao acessar a API da Wikipedia para definir o nome do creator {creator}: {e}\")\n",
    "        raise\n",
    "\n",
    "\n",
    "def extrai_user_id_youtube(creator, config=config):\n",
    "    try:\n",
    "        url = config[\"api_endpoint\"]\n",
    "        params = {\n",
    "            \"action\": \"parse\",\n",
    "            \"page\": creator,\n",
    "            \"format\": \"json\"\n",
    "        }\n",
    "        \n",
    "        response = requests.get(url, params=params, timeout=10, headers=config[\"headers\"])\n",
    "        response.raise_for_status()\n",
    "        data = response.json()\n",
    "        \n",
    "        if 'error' in data:\n",
    "            logger.warning(f\"Página não encontrada na Wikipedia: {creator}\")\n",
    "            return None\n",
    "            \n",
    "        if 'parse' not in data or 'text' not in data['parse']:\n",
    "            logger.warning(f\"Conteúdo não disponível para: {creator}\")\n",
    "            return None\n",
    "            \n",
    "        html_content = data['parse']['externallinks']\n",
    "        \n",
    "        youtube_patterns = r\"https?://(?:www\\.)?youtube\\.com/(?:user/|c/|channel/|@)([a-zA-Z0-9_.-]+)\"\n",
    "\n",
    "        for item in html_content:\n",
    "            matches = re.findall(youtube_patterns, item, re.IGNORECASE)\n",
    "            if matches:\n",
    "                valid_matches = [\n",
    "                    match for match in matches \n",
    "                    if len(match) > 2 and \n",
    "                    match.lower() not in ['watch', 'embed', 'playlist', 'results', 'feed', 'trending']\n",
    "                ]\n",
    "                \n",
    "                if valid_matches:\n",
    "                    user_id = valid_matches[0]\n",
    "                    logger.info(f\"User ID encontrado para {creator}: {user_id}\")\n",
    "                    return user_id\n",
    "                else:\n",
    "                    logger.warning(f\"Nenhum user_id do YouTube encontrado para: {creator}\")\n",
    "                    return None\n",
    "        \n",
    "    except requests.RequestException as e:\n",
    "        logger.error(f\"Erro na requisição para {creator}: {str(e)}\")\n",
    "        return None\n",
    "    except Exception as e:\n",
    "        logger.error(f\"Erro inesperado ao processar {creator}: {str(e)}\")\n",
    "        return None\n",
    "\n",
    "\n",
    "def processa_creators_batch(creators_list, config=config):\n",
    "    results = []\n",
    "    total_creators = len(creators_list)\n",
    "    \n",
    "    logger.info(f\"Processando {total_creators} creators em lotes de {config['batch_size']}\")\n",
    "    \n",
    "    for i in range(0, total_creators, config['batch_size']):\n",
    "        batch = creators_list[i:i + config['batch_size']]\n",
    "        batch_num = (i // config['batch_size']) + 1\n",
    "        total_batches = (total_creators + config['batch_size'] - 1) // config['batch_size']\n",
    "        \n",
    "        logger.info(f\"Processando lote {batch_num}/{total_batches}\")\n",
    "        \n",
    "        for wiki_page in batch:\n",
    "            real_user_id = define_creator_wiki(wiki_page)\n",
    "            user_id = extrai_user_id_youtube(real_user_id)\n",
    "            \n",
    "            if user_id:\n",
    "                results.append({\n",
    "                    'wiki_page': wiki_page,\n",
    "                    'user_id': user_id\n",
    "                })\n",
    "            \n",
    "            time.sleep(0.5)\n",
    "        \n",
    "        if i + config['batch_size'] < total_creators:\n",
    "            logger.info(\"Pausa entre lotes...\")\n",
    "            time.sleep(1)\n",
    "    \n",
    "    return results"
   ]
  },
  {
   "cell_type": "code",
   "execution_count": 0,
   "metadata": {
    "application/vnd.databricks.v1+cell": {
     "cellMetadata": {
      "byteLimit": 2048000,
      "rowLimit": 10000
     },
     "inputWidgets": {},
     "nuid": "ab8b9c06-2e6e-4654-8f8d-0f6678e731b2",
     "showTitle": false,
     "tableResultSettingsMap": {},
     "title": ""
    }
   },
   "outputs": [
    {
     "output_type": "stream",
     "name": "stderr",
     "output_type": "stream",
     "text": [
      "INFO:__main__:Pipeline iniciado em 2025-08-19 23:55:16.348699\nINFO:__main__:Fonte: workspace.default.bronze_creators_scrape_wiki\nINFO:__main__:Endpoint da API: https://en.wikipedia.org/w/api.php\nINFO:utils.data_validation:Fonte validada: workspace.default.bronze_creators_scrape_wiki\nINFO:__main__:Tabela workspace.default.bronze_creators_scrape_wiki carregada com sucesso\nINFO:__main__:Total de creators para processar: 10\n"
     ]
    }
   ],
   "source": [
    "logging.basicConfig(level=getattr(logging, config[\"log_level\"]))\n",
    "logger = logging.getLogger(__name__)\n",
    "\n",
    "logger.info(f\"Pipeline iniciado em {config['processing_timestamp']}\")\n",
    "logger.info(f\"Fonte: {config['source']}\")\n",
    "logger.info(f\"Endpoint da API: {config['api_endpoint']}\")\n",
    "\n",
    "if not valida_fonte(spark, config):\n",
    "    raise FileNotFoundError(f\"Tabela fonte não encontrada: {config['source']}\")\n",
    "\n",
    "creators_df = ler_fonte(spark, config)\n",
    "logger.info(f\"Tabela {config['source']} carregada com sucesso\")\n",
    "\n",
    "creators_list = [row.wiki_page for row in creators_df.select(\"wiki_page\").collect()]\n",
    "logger.info(f\"Total de creators para processar: {len(creators_list)}\")"
   ]
  },
  {
   "cell_type": "code",
   "execution_count": 0,
   "metadata": {
    "application/vnd.databricks.v1+cell": {
     "cellMetadata": {
      "byteLimit": 2048000,
      "rowLimit": 10000
     },
     "inputWidgets": {},
     "nuid": "d9bc7315-1e65-46db-a173-970c24694ad0",
     "showTitle": false,
     "tableResultSettingsMap": {},
     "title": ""
    }
   },
   "outputs": [
    {
     "output_type": "stream",
     "name": "stderr",
     "output_type": "stream",
     "text": [
      "INFO:__main__:Processando 10 creators em lotes de 3\nINFO:__main__:Processando lote 1/4\nINFO:__main__:User ID encontrado para KondZilla: KondZilla\nINFO:__main__:User ID encontrado para Luccas_Neto: luccasneto\nINFO:__main__:User ID encontrado para Pirulla: Pirulla25\nINFO:__main__:Pausa entre lotes...\nINFO:__main__:Processando lote 2/4\nINFO:__main__:User ID encontrado para Cocomelon: UCbCmjCuTUZos6Inko4u57UQ\nINFO:__main__:User ID encontrado para Porta_dos_Fundos: portadosfundos\nINFO:__main__:User ID encontrado para Felipe_Neto: felipeneto\nINFO:__main__:Pausa entre lotes...\nINFO:__main__:Processando lote 3/4\nINFO:__main__:User ID encontrado para PewDiePie: PewDiePie\nINFO:__main__:User ID encontrado para Judson_Laipply: judsonlaipply\nINFO:__main__:User ID encontrado para Ray_William_Johnson: RayWilliamJohnson\nINFO:__main__:Pausa entre lotes...\nINFO:__main__:Processando lote 4/4\nINFO:__main__:User ID encontrado para Zoe_Sugg: zoella280390\nINFO:__main__:Processamento concluído. User IDs encontrados: 10\nINFO:__main__:Taxa de sucesso: 10/10 (100.0%)\n"
     ]
    }
   ],
   "source": [
    "results = processa_creators_batch(creators_list, config)\n",
    "\n",
    "logger.info(f\"Processamento concluído. User IDs encontrados: {len(results)}\")\n",
    "logger.info(f\"Taxa de sucesso: {len(results)}/{len(creators_list)} ({len(results)/len(creators_list)*100:.1f}%)\")"
   ]
  },
  {
   "cell_type": "code",
   "execution_count": 0,
   "metadata": {
    "application/vnd.databricks.v1+cell": {
     "cellMetadata": {
      "byteLimit": 2048000,
      "rowLimit": 10000
     },
     "inputWidgets": {},
     "nuid": "5eec7225-2db0-433c-afa5-46522c5f808a",
     "showTitle": false,
     "tableResultSettingsMap": {},
     "title": ""
    }
   },
   "outputs": [
    {
     "output_type": "stream",
     "name": "stderr",
     "output_type": "stream",
     "text": [
      "INFO:__main__:Exemplos de dados extraídos:\n"
     ]
    },
    {
     "output_type": "stream",
     "name": "stdout",
     "output_type": "stream",
     "text": [
      "+------------------------+-------------------+\n|user_id                 |wiki_page          |\n+------------------------+-------------------+\n|KondZilla               |KondZilla          |\n|luccasneto              |Luccas_Neto        |\n|Pirulla25               |Pirula_(YouTuber)  |\n|UCbCmjCuTUZos6Inko4u57UQ|Cocomelon          |\n|portadosfundos          |Porta_dos_Fundos   |\n|felipeneto              |Felipe_Neto        |\n|PewDiePie               |PewDiePie          |\n|judsonlaipply           |Judson_Laipply     |\n|RayWilliamJohnson       |Ray_William_Johnson|\n|zoella280390            |Zoe_Sugg           |\n+------------------------+-------------------+\n\n"
     ]
    },
    {
     "output_type": "stream",
     "name": "stderr",
     "output_type": "stream",
     "text": [
      "INFO:__main__:Total de registros criados: 10\n"
     ]
    }
   ],
   "source": [
    "if results:\n",
    "    schema = StructType([\n",
    "        StructField(\"user_id\", StringType(), True),\n",
    "        StructField(\"wiki_page\", StringType(), True)\n",
    "    ])\n",
    "    \n",
    "    users_yt_df = spark.createDataFrame(results, schema)\n",
    "    \n",
    "    logger.info(\"Exemplos de dados extraídos:\")\n",
    "    users_yt_df.show(10, truncate=False)\n",
    "    \n",
    "    total_rows = users_yt_df.count()\n",
    "    logger.info(f\"Total de registros criados: {total_rows}\")\n",
    "    \n",
    "else:\n",
    "    logger.warning(\"Nenhum user_id foi extraído com sucesso\")\n",
    "    schema = StructType([\n",
    "        StructField(\"user_id\", StringType(), True),\n",
    "        StructField(\"wiki_page\", StringType(), True)\n",
    "    ])\n",
    "    users_yt_df = spark.createDataFrame([], schema)"
   ]
  },
  {
   "cell_type": "code",
   "execution_count": 0,
   "metadata": {
    "application/vnd.databricks.v1+cell": {
     "cellMetadata": {
      "byteLimit": 2048000,
      "rowLimit": 10000
     },
     "inputWidgets": {},
     "nuid": "c0648832-ebb2-4987-9d64-e34a10698760",
     "showTitle": false,
     "tableResultSettingsMap": {},
     "title": ""
    }
   },
   "outputs": [
    {
     "output_type": "stream",
     "name": "stderr",
     "output_type": "stream",
     "text": [
      "INFO:utils.table_operations:Iniciada a criação da tabela delta na camada bronze: workspace.default.users_yt\nINFO:utils.table_operations:Metadados da tabela - Camada: bronze, Salvo em: workspace.default.users_yt\nINFO:utils.table_operations:Tabela criada em 2025-08-19T23:55:16.348699\nINFO:utils.table_operations:Linhas: 10\nINFO:utils.table_operations:Colunas: 2\nINFO:utils.table_operations:Batch ID: 5535d59d\nINFO:utils.table_operations:Contém dados: True\nINFO:utils.table_operations:Tabela criada com sucesso: workspace.default.users_yt\nINFO:utils.table_operations:Comentário com metadados adicionado com sucesso\nINFO:__main__:Tabela workspace.default.users_yt criada com sucesso!\nINFO:__main__:Total de registros salvos: 10\n"
     ]
    }
   ],
   "source": [
    "config.update({\n",
    "    \"layer\": \"bronze\",\n",
    "    \"total_rows\": users_yt_df.count(),\n",
    "    \"column_count\": len(users_yt_df.columns),\n",
    "    \"has_data\": users_yt_df.count() > 0\n",
    "})\n",
    "\n",
    "try:\n",
    "    success = cria_tabela(spark, users_yt_df, config)\n",
    "    \n",
    "    if success:\n",
    "        logger.info(f\"Tabela {config['catalog_name']}.{config['schema_name']}.{config['table_name']} criada com sucesso!\")\n",
    "        logger.info(f\"Total de registros salvos: {config['total_rows']}\")\n",
    "        \n",
    "    else:\n",
    "        raise Exception(\"Falha na criação da tabela\")\n",
    "        \n",
    "except Exception as e:\n",
    "    logger.error(f\"Erro ao criar tabela: {str(e)}\")\n",
    "    raise"
   ]
  }
 ],
 "metadata": {
  "application/vnd.databricks.v1+notebook": {
   "computePreferences": null,
   "dashboards": [],
   "environmentMetadata": null,
   "inputWidgetPreferences": null,
   "language": "python",
   "notebookMetadata": {
    "pythonIndentUnit": 4
   },
   "notebookName": "create_table_user_yt_from_wikipedia_api",
   "widgets": {}
  },
  "language_info": {
   "name": "python"
  }
 },
 "nbformat": 4,
 "nbformat_minor": 0
}