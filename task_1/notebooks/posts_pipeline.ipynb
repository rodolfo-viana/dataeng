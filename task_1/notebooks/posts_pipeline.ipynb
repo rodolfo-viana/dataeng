{
 "cells": [
  {
   "cell_type": "code",
   "execution_count": 0,
   "metadata": {
    "application/vnd.databricks.v1+cell": {
     "cellMetadata": {
      "byteLimit": 2048000,
      "rowLimit": 10000
     },
     "inputWidgets": {},
     "nuid": "4eb2a882-b1c8-4df8-ab34-9c0bc82dff8d",
     "showTitle": false,
     "tableResultSettingsMap": {},
     "title": ""
    }
   },
   "outputs": [],
   "source": [
    "from pyspark.sql import SparkSession\n",
    "import logging\n",
    "import sys\n",
    "import os\n",
    "\n",
    "sys.path.append(os.path.join(os.path.dirname(os.path.abspath('')), 'src'))\n",
    "\n",
    "from utils.data_validation import valida_fonte, ler_fonte, valida_dados\n",
    "from utils.metadata_handler import adiciona_metadados\n",
    "from utils.table_operations import cria_tabela\n",
    "from transformations.posts_transformations import transforma_timestamp\n",
    "from config.pipeline_config import configura_bronze_posts, configura_silver_posts"
   ]
  },
  {
   "cell_type": "markdown",
   "metadata": {
    "application/vnd.databricks.v1+cell": {
     "cellMetadata": {
      "byteLimit": 2048000,
      "rowLimit": 10000
     },
     "inputWidgets": {},
     "nuid": "c2a3ca07-2a6d-4c29-9c3d-a80ca97d1344",
     "showTitle": false,
     "tableResultSettingsMap": {},
     "title": ""
    }
   },
   "source": [
    "## Camada bronze"
   ]
  },
  {
   "cell_type": "code",
   "execution_count": 0,
   "metadata": {
    "application/vnd.databricks.v1+cell": {
     "cellMetadata": {
      "byteLimit": 2048000,
      "rowLimit": 10000
     },
     "inputWidgets": {},
     "nuid": "1595919e-36f8-4211-80be-1df0d69b4f5d",
     "showTitle": false,
     "tableResultSettingsMap": {},
     "title": ""
    }
   },
   "outputs": [
    {
     "output_type": "stream",
     "name": "stdout",
     "output_type": "stream",
     "text": [
      "Pipeline da camada bronze iniciado em 2025-08-19 23:58:17.895000\nFonte: /Volumes/workspace/default/dataeng_raw/posts_creator.json.gz\n"
     ]
    }
   ],
   "source": [
    "bronze_config = configura_bronze_posts()\n",
    "filename = bronze_config[\"source_filename\"].split('.')[0]\n",
    "\n",
    "logging.basicConfig(level=getattr(logging, bronze_config[\"log_level\"]))\n",
    "logger = logging.getLogger(__name__)\n",
    "\n",
    "print(f\"Pipeline da camada bronze iniciado em {bronze_config['processing_timestamp']}\")\n",
    "print(f\"Fonte: {bronze_config['source']}\")"
   ]
  },
  {
   "cell_type": "code",
   "execution_count": 0,
   "metadata": {
    "application/vnd.databricks.v1+cell": {
     "cellMetadata": {
      "byteLimit": 2048000,
      "rowLimit": 10000
     },
     "inputWidgets": {},
     "nuid": "8866b293-ecfc-4c60-9c14-2e9fbf885f98",
     "showTitle": false,
     "tableResultSettingsMap": {},
     "title": ""
    }
   },
   "outputs": [
    {
     "output_type": "stream",
     "name": "stderr",
     "output_type": "stream",
     "text": [
      "INFO:utils.data_validation:Fonte validada: /Volumes/workspace/default/dataeng_raw/posts_creator.json.gz\nINFO:utils.table_operations:Iniciada a criação da tabela delta na camada bronze: workspace.default.bronze_post_creator\nINFO:utils.table_operations:Metadados da tabela - Camada: bronze, Salvo em: workspace.default.bronze_post_creator\nINFO:utils.table_operations:Tabela criada em 2025-08-19T23:58:17.895000\nINFO:utils.table_operations:Linhas: 12045\nINFO:utils.table_operations:Colunas: 7\nINFO:utils.table_operations:Batch ID: f24967cb\nINFO:utils.table_operations:Contém dados: True\nINFO:utils.table_operations:Tabela criada com sucesso: workspace.default.bronze_post_creator\nINFO:utils.table_operations:Comentário com metadados adicionado com sucesso\n"
     ]
    },
    {
     "output_type": "stream",
     "name": "stdout",
     "output_type": "stream",
     "text": [
      "Camada bronze criada com sucesso!\n"
     ]
    }
   ],
   "source": [
    "try:\n",
    "    if not valida_fonte(spark, bronze_config):\n",
    "        raise FileNotFoundError(f\"Fonte inacessível: {bronze_config['source']}\")\n",
    "\n",
    "    bronze_df = ler_fonte(spark, bronze_config)\n",
    "    bronze_config = valida_dados(bronze_df, bronze_config)\n",
    "    bronze_df = adiciona_metadados(bronze_df, bronze_config)\n",
    "    \n",
    "    success = cria_tabela(spark, bronze_df, bronze_config)\n",
    "    if success:\n",
    "        print(\"Camada bronze criada com sucesso!\")\n",
    "    else:\n",
    "        raise Exception(\"Erro na criação da tabela bronze\")\n",
    "        \n",
    "except Exception as e:\n",
    "    print(f\"Erro ao processar camada bronze: {str(e)}\")\n",
    "    raise"
   ]
  },
  {
   "cell_type": "markdown",
   "metadata": {
    "application/vnd.databricks.v1+cell": {
     "cellMetadata": {
      "byteLimit": 2048000,
      "rowLimit": 10000
     },
     "inputWidgets": {},
     "nuid": "4f6f3b0e-c4bf-4ecb-9aeb-2e71476321d8",
     "showTitle": false,
     "tableResultSettingsMap": {},
     "title": ""
    }
   },
   "source": [
    "## Camada silver"
   ]
  },
  {
   "cell_type": "code",
   "execution_count": 0,
   "metadata": {
    "application/vnd.databricks.v1+cell": {
     "cellMetadata": {
      "byteLimit": 2048000,
      "rowLimit": 10000
     },
     "inputWidgets": {},
     "nuid": "05fe71d9-10b8-4a30-adfa-f312869bf5a4",
     "showTitle": false,
     "tableResultSettingsMap": {},
     "title": ""
    }
   },
   "outputs": [
    {
     "output_type": "stream",
     "name": "stdout",
     "output_type": "stream",
     "text": [
      "Pipeline da camada silver iniciado em 2025-08-20 00:02:57.009370\nFonte: workspace.default.bronze_post_creator\n"
     ]
    }
   ],
   "source": [
    "silver_config = configura_silver_posts()\n",
    "\n",
    "print(f\"Pipeline da camada silver iniciado em {silver_config['processing_timestamp']}\")\n",
    "print(f\"Fonte: {silver_config['source']}\")"
   ]
  },
  {
   "cell_type": "code",
   "execution_count": 0,
   "metadata": {
    "application/vnd.databricks.v1+cell": {
     "cellMetadata": {
      "byteLimit": 2048000,
      "rowLimit": 10000
     },
     "inputWidgets": {},
     "nuid": "ad2efa2a-ecc2-42f1-9e03-c554a04d85ae",
     "showTitle": false,
     "tableResultSettingsMap": {},
     "title": ""
    }
   },
   "outputs": [
    {
     "output_type": "stream",
     "name": "stderr",
     "output_type": "stream",
     "text": [
      "INFO:utils.data_validation:Fonte validada: workspace.default.bronze_post_creator\nINFO:transformations.posts_transformations:Convertendo colunas de timestamp: ['published_at']\nINFO:transformations.posts_transformations:Convertendo coluna 'published_at' de Unix timestamp para SQL timestamp\nINFO:transformations.posts_transformations:Conversão concluída para colunas: published_at\nINFO:utils.table_operations:Iniciada a criação da tabela delta na camada silver: workspace.default.silver_post_creator\nINFO:utils.table_operations:Metadados da tabela - Camada: silver, Salvo em: workspace.default.silver_post_creator\nINFO:utils.table_operations:Tabela criada em 2025-08-20T00:02:57.009370\nINFO:utils.table_operations:Linhas: 12045\nINFO:utils.table_operations:Colunas (exceto metadados): 7\nINFO:utils.table_operations:Contém dados: True\nINFO:utils.table_operations:Percentual de completude: 100.0%\nINFO:utils.table_operations:Problemas de qualidade: []\nINFO:utils.table_operations:Qualidade atestada: True\nINFO:utils.table_operations:Tabela criada com sucesso: workspace.default.silver_post_creator\nINFO:utils.table_operations:Comentário com metadados adicionado com sucesso\n"
     ]
    },
    {
     "output_type": "stream",
     "name": "stdout",
     "output_type": "stream",
     "text": [
      "Camada silver criada com sucesso!\n"
     ]
    }
   ],
   "source": [
    "try:\n",
    "    if not valida_fonte(spark, silver_config):\n",
    "        raise FileNotFoundError(f\"Fonte inacessível: {silver_config['source']}\")\n",
    "\n",
    "    silver_df = ler_fonte(spark, silver_config)\n",
    "    silver_df = transforma_timestamp(silver_df, silver_config)\n",
    "    silver_config = valida_dados(silver_df, silver_config)\n",
    "    silver_df = adiciona_metadados(silver_df, silver_config)\n",
    "    \n",
    "    success = cria_tabela(spark, silver_df, silver_config)\n",
    "    if success:\n",
    "        print(\"Camada silver criada com sucesso!\")\n",
    "    else:\n",
    "        raise Exception(\"Erro na criação da tabela silver\")\n",
    "        \n",
    "except Exception as e:\n",
    "    print(f\"Erro ao processar camada silver: {str(e)}\")\n",
    "    raise"
   ]
  }
 ],
 "metadata": {
  "application/vnd.databricks.v1+notebook": {
   "computePreferences": {
    "hardware": {
     "accelerator": null,
     "gpuPoolId": null,
     "memory": null
    }
   },
   "dashboards": [],
   "environmentMetadata": null,
   "inputWidgetPreferences": null,
   "language": "python",
   "notebookMetadata": {
    "pythonIndentUnit": 4
   },
   "notebookName": "posts_pipeline",
   "widgets": {}
  },
  "language_info": {
   "name": "python"
  }
 },
 "nbformat": 4,
 "nbformat_minor": 0
}