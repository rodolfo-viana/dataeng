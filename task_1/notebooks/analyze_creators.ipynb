{
 "cells": [
  {
   "cell_type": "code",
   "execution_count": 0,
   "metadata": {
    "application/vnd.databricks.v1+cell": {
     "cellMetadata": {
      "byteLimit": 2048000,
      "rowLimit": 10000
     },
     "inputWidgets": {},
     "nuid": "312e5293-cbb9-4fda-94b0-7b5a161a4b88",
     "showTitle": false,
     "tableResultSettingsMap": {},
     "title": ""
    }
   },
   "outputs": [
    {
     "output_type": "stream",
     "name": "stdout",
     "output_type": "stream",
     "text": [
      "=== ANÁLISE DE CREATORS ===\nExecutado em: 2025-08-18 22:53:56\nUsers YT: 10 registros\nSilver Posts Creator: 12045 registros\nDados após join: 12045 registros\n"
     ]
    },
    {
     "output_type": "display_data",
     "data": {
      "text/html": [
       "<style scoped>\n",
       "  .ansiout {\n",
       "    display: block;\n",
       "    unicode-bidi: embed;\n",
       "    white-space: pre-wrap;\n",
       "    word-wrap: break-word;\n",
       "    word-break: break-all;\n",
       "    font-family: \"Menlo\", \"Monaco\", \"Consolas\", \"Ubuntu Mono\", \"Source Code Pro\", monospace;\n",
       "    font-size: 13px;\n",
       "    color: #555;\n",
       "    margin-left: 4px;\n",
       "    line-height: 19px;\n",
       "  }\n",
       "</style>"
      ]
     },
     "metadata": {
      "application/vnd.databricks.v1+output": {
       "arguments": {},
       "data": "",
       "errorSummary": "",
       "errorTraceType": null,
       "metadata": {},
       "type": "ipynbError"
      }
     },
     "output_type": "display_data"
    }
   ],
   "source": [
    "from pyspark.sql import SparkSession, functions as F\n",
    "from pyspark.sql.window import Window\n",
    "from pyspark.sql.types import *\n",
    "from datetime import datetime, timedelta\n",
    "\n",
    "print(\"=== ANÁLISE DE CREATORS ===\")\n",
    "print(f\"Executado em: {datetime.now().strftime('%Y-%m-%d %H:%M:%S')}\")\n",
    "\n",
    "users_yt = spark.table(\"default.users_yt\")\n",
    "silver_posts_creator = spark.table(\"default.silver_post_creator\")\n",
    "\n",
    "print(f\"Users YT: {users_yt.count()} registros\")\n",
    "print(f\"Silver Posts Creator: {silver_posts_creator.count()} registros\")\n",
    "\n",
    "joined_data = silver_posts_creator.join(\n",
    "    users_yt,\n",
    "    silver_posts_creator.yt_user == users_yt.user_id,\n",
    "    \"left\"\n",
    ")\n",
    "\n",
    "print(f\"Dados após join: {joined_data.count()} registros\")"
   ]
  },
  {
   "cell_type": "markdown",
   "metadata": {
    "application/vnd.databricks.v1+cell": {
     "cellMetadata": {
      "byteLimit": 2048000,
      "rowLimit": 10000
     },
     "inputWidgets": {},
     "nuid": "c55de472-5d0f-4af6-b8a6-d03f62ffb574",
     "showTitle": false,
     "tableResultSettingsMap": {},
     "title": ""
    }
   },
   "source": [
    "## Top 3 Posts por Likes (Últimos 2 Anos)\n",
    "Observação: O enunciado pede posts dos últimos seis meses, mas creio que a extração dos dados foi anterior a isso, por não há posts no último semestre. Aumentei para dois anos."
   ]
  },
  {
   "cell_type": "code",
   "execution_count": 0,
   "metadata": {
    "application/vnd.databricks.v1+cell": {
     "cellMetadata": {
      "byteLimit": 2048000,
      "rowLimit": 10000
     },
     "inputWidgets": {},
     "nuid": "30422143-ae76-4382-b70d-37c23c15ef52",
     "showTitle": false,
     "tableResultSettingsMap": {},
     "title": ""
    }
   },
   "outputs": [
    {
     "output_type": "stream",
     "name": "stdout",
     "output_type": "stream",
     "text": [
      "Data limite para análise (últimos 6 meses): 2023-08-19 22:53:58.948668\n=== TOP 3 POSTS POR LIKES (ÚLTIMOS 6 MESES) ===\n+--------------+-----------------------------------------------------------------------------------------+-------+----+\n|user_id       |title                                                                                    |likes  |rank|\n+--------------+-----------------------------------------------------------------------------------------+-------+----+\n|PewDiePie     |I Drew Every Day for 100 DAYS!                                                           |531425 |1   |\n|PewDiePie     |Teaching myself to draw for no reason                                                    |354677 |2   |\n|PewDiePie     |This is the best                                                                         |276399 |3   |\n|Pirulla25     |Os alienígenas apresentados no México (#Pirula 375)                                      |30035  |1   |\n|Pirulla25     |FÓSSIL REVELA QUE O SER HUMANO SURGIU NA EUROPA? CUIDADO, NÃO É NADA DISSO! (#Pirula 376)|19494  |2   |\n|Pirulla25     |Se Deus não existe, pra que ligar pro futuro do planeta? #PergunteAoAteu 17 (#Pirula 234)|14135  |3   |\n|felipeneto    |ATÉ LOGO…                                                                                |230745 |1   |\n|felipeneto    |ENCONTREI O ANIMAL MAIS INCRÍVEL DO MINECRAFT #3.08                                      |168693 |2   |\n|felipeneto    |LIVE DE AMONG US - DESPEDIDA 2023                                                        |167632 |3   |\n|luccasneto    |POV: FAZENDO O TRABALHO DA ESCOLA!                                                       |1992103|1   |\n|luccasneto    |OS AVENTUREIROS FIZERAM A TREND COM OS VILÕES!                                           |691724 |2   |\n|luccasneto    |LUKE BRINCANDO NA MÁQUINA DE BICHINHO DE PELÚCIA                                         |624050 |3   |\n|portadosfundos|LIBERA O PRESO, PEÇANHA! - #Shorts                                                       |514783 |1   |\n|portadosfundos|ESSE ANTIDEPRESSIVO FUNCIONA! - #Shorts                                                  |240450 |2   |\n|portadosfundos|NOVEMBRO AZUL SINCERO                                                                    |210068 |3   |\n+--------------+-----------------------------------------------------------------------------------------+-------+----+\n\n"
     ]
    },
    {
     "output_type": "display_data",
     "data": {
      "text/plain": [
       "\u001B[0;36m  File \u001B[0;32m<command-6162900690643732>, line 3\u001B[0;36m\u001B[0m\n",
       "\u001B[0;31m    WITH recent_posts AS (\u001B[0m\n",
       "\u001B[0m         ^\u001B[0m\n",
       "\u001B[0;31mSyntaxError\u001B[0m\u001B[0;31m:\u001B[0m invalid syntax\n"
      ]
     },
     "metadata": {
      "application/vnd.databricks.v1+output": {
       "addedWidgets": {},
       "arguments": {},
       "datasetInfos": [],
       "jupyterProps": {
        "ename": "SyntaxError",
        "evalue": "invalid syntax (command-6162900690643732-323829079, line 3)"
       },
       "metadata": {
        "errorSummary": ""
       },
       "removedWidgets": [],
       "sqlProps": null,
       "stackFrames": [
        "\u001B[0;36m  File \u001B[0;32m<command-6162900690643732>, line 3\u001B[0;36m\u001B[0m\n\u001B[0;31m    WITH recent_posts AS (\u001B[0m\n\u001B[0m         ^\u001B[0m\n\u001B[0;31mSyntaxError\u001B[0m\u001B[0;31m:\u001B[0m invalid syntax\n"
       ],
       "type": "baseError"
      }
     },
     "output_type": "display_data"
    }
   ],
   "source": [
    "# Abaixo está o código Python, mas o Databricks Free Edition estava\n",
    "# apresentando problema para conectar, então também fiz em SQL, considerando\n",
    "# que o servidor é outro. \n",
    "# (Serverless Starter Warehouse (SQL) vs. Serverless (Python)).\n",
    "#\n",
    "# SELECT user_id, title, likes, rank\n",
    "# FROM (\n",
    "#   SELECT \n",
    "#     u.user_id,\n",
    "#     s.title,\n",
    "#     s.likes,\n",
    "#     ROW_NUMBER() OVER (PARTITION BY u.user_id ORDER BY s.likes DESC) as rank\n",
    "#   FROM default.silver_post_creator s\n",
    "#   INNER JOIN default.users_yt u ON s.yt_user = u.user_id\n",
    "#   WHERE s.published_at >= DATE_SUB(current_date(), 730)\n",
    "# )\n",
    "# WHERE rank <= 3\n",
    "# ORDER BY user_id, rank;\n",
    "\n",
    "data_limite = (datetime.now() - timedelta(days=730))\n",
    "print(f\"Data limite para análise (últimos 6 meses): {data_limite}\")\n",
    "\n",
    "recent_posts_likes = joined_data.filter(\n",
    "    (F.col(\"published_at\") >= data_limite) & \n",
    "    (F.col(\"user_id\").isNotNull())\n",
    ")\n",
    "\n",
    "window_likes = Window.partitionBy(\"user_id\").orderBy(F.col(\"likes\").desc())\n",
    "\n",
    "top_posts_likes = recent_posts_likes.withColumn(\n",
    "    \"rank\", F.row_number().over(window_likes)\n",
    ").filter(\n",
    "    F.col(\"rank\") <= 3\n",
    ").select(\n",
    "    \"user_id\", \"title\", \"likes\", \"rank\"\n",
    ").orderBy(\"user_id\", \"rank\")\n",
    "\n",
    "print(\"=== TOP 3 POSTS POR LIKES (ÚLTIMOS 6 MESES) ===\")\n",
    "top_posts_likes.show(50, truncate=False)"
   ]
  },
  {
   "cell_type": "markdown",
   "metadata": {
    "application/vnd.databricks.v1+cell": {
     "cellMetadata": {
      "byteLimit": 2048000,
      "rowLimit": 10000
     },
     "inputWidgets": {},
     "nuid": "4420f39f-dbe4-4328-bc39-0de721702d94",
     "showTitle": false,
     "tableResultSettingsMap": {},
     "title": ""
    }
   },
   "source": [
    "## Top 3 Posts por Views (Últimos 2 Anos)"
   ]
  },
  {
   "cell_type": "code",
   "execution_count": 0,
   "metadata": {
    "application/vnd.databricks.v1+cell": {
     "cellMetadata": {
      "byteLimit": 2048000,
      "rowLimit": 10000
     },
     "inputWidgets": {},
     "nuid": "fb820a69-d498-4476-9a26-c6d5642d0771",
     "showTitle": false,
     "tableResultSettingsMap": {},
     "title": ""
    }
   },
   "outputs": [
    {
     "output_type": "stream",
     "name": "stdout",
     "output_type": "stream",
     "text": [
      "=== TOP 3 POSTS POR VIEWS (ÚLTIMOS 6 MESES) ===\n+--------------+-----------------------------------------------------------------------------------------+---------+----+\n|user_id       |title                                                                                    |views    |rank|\n+--------------+-----------------------------------------------------------------------------------------+---------+----+\n|PewDiePie     |I Drew Every Day for 100 DAYS!                                                           |5470620  |1   |\n|PewDiePie     |The real reason I left Sweden.                                                           |4765068  |2   |\n|PewDiePie     |dad life                                                                                 |4087996  |3   |\n|Pirulla25     |Os alienígenas apresentados no México (#Pirula 375)                                      |306514   |1   |\n|Pirulla25     |FÓSSIL REVELA QUE O SER HUMANO SURGIU NA EUROPA? CUIDADO, NÃO É NADA DISSO! (#Pirula 376)|195301   |2   |\n|Pirulla25     |CADÊ OS FÓSSEIS INTERMEDIÁRIOS? (#Pirula 371.5)                                          |127901   |3   |\n|felipeneto    |DESAFIO ACERTE O SABOR EXÓTICO MISTURADO!                                                |3353203  |1   |\n|felipeneto    |MELHORES RESPOSTAS DE PROVA NOVA EDIÇÃO                                                  |3213159  |2   |\n|felipeneto    |LIVE DE AMONG US - DESPEDIDA 2023                                                        |2958450  |3   |\n|luccasneto    |POV: FAZENDO O TRABALHO DA ESCOLA!                                                       |115065476|1   |\n|luccasneto    |OS AVENTUREIROS FIZERAM A TREND COM OS VILÕES!                                           |33827682 |2   |\n|luccasneto    |LUKE BRINCANDO NA MÁQUINA DE BICHINHO DE PELÚCIA                                         |27503680 |3   |\n|portadosfundos|ALERTA GATILHO                                                                           |21920896 |1   |\n|portadosfundos|LIBERA O PRESO, PEÇANHA! - #Shorts                                                       |5639457  |2   |\n|portadosfundos|PAU NORMAL                                                                               |2951530  |3   |\n+--------------+-----------------------------------------------------------------------------------------+---------+----+\n\n"
     ]
    },
    {
     "output_type": "display_data",
     "data": {
      "text/plain": [
       ""
      ]
     },
     "metadata": {
      "application/vnd.databricks.v1+output": {
       "addedWidgets": {},
       "arguments": {},
       "datasetInfos": [],
       "jupyterProps": null,
       "metadata": {
        "errorSummary": ""
       },
       "removedWidgets": [],
       "sqlProps": null,
       "stackFrames": [],
       "type": "baseError"
      }
     },
     "output_type": "display_data"
    }
   ],
   "source": [
    "# SELECT user_id, title, views, rank\n",
    "# FROM (\n",
    "#   SELECT \n",
    "#     u.user_id,\n",
    "#     s.title,\n",
    "#     s.views,\n",
    "#     ROW_NUMBER() OVER (PARTITION BY u.user_id ORDER BY s.views DESC) as rank\n",
    "#   FROM default.silver_post_creator s\n",
    "#   INNER JOIN default.users_yt u ON s.yt_user = u.user_id\n",
    "#   WHERE s.published_at >= DATE_SUB(current_date(), 730)\n",
    "# )\n",
    "# WHERE rank <= 3\n",
    "# ORDER BY user_id, rank;\n",
    "\n",
    "recent_posts_views = joined_data.filter(\n",
    "    (F.col(\"published_at\") >= data_limite) & \n",
    "    (F.col(\"user_id\").isNotNull())\n",
    ")\n",
    "\n",
    "window_views = Window.partitionBy(\"user_id\").orderBy(F.col(\"views\").desc())\n",
    "\n",
    "top_posts_views = recent_posts_views.withColumn(\n",
    "    \"rank\", F.row_number().over(window_views)\n",
    ").filter(\n",
    "    F.col(\"rank\") <= 3\n",
    ").select(\n",
    "    \"user_id\", \"title\", \"views\", \"rank\"\n",
    ").orderBy(\"user_id\", \"rank\")\n",
    "\n",
    "print(\"=== TOP 3 POSTS POR VIEWS (ÚLTIMOS 6 MESES) ===\")\n",
    "top_posts_views.show(50, truncate=False)"
   ]
  },
  {
   "cell_type": "markdown",
   "metadata": {
    "application/vnd.databricks.v1+cell": {
     "cellMetadata": {
      "byteLimit": 2048000,
      "rowLimit": 10000
     },
     "inputWidgets": {},
     "nuid": "01d88bbf-01ec-4ca2-a355-025ae440933d",
     "showTitle": false,
     "tableResultSettingsMap": {},
     "title": ""
    }
   },
   "source": [
    "## Creators Órfãos"
   ]
  },
  {
   "cell_type": "code",
   "execution_count": 0,
   "metadata": {
    "application/vnd.databricks.v1+cell": {
     "cellMetadata": {
      "byteLimit": 2048000,
      "rowLimit": 10000
     },
     "inputWidgets": {},
     "nuid": "05ce3f0c-53ea-4b65-87b4-627c236ea5f4",
     "showTitle": false,
     "tableResultSettingsMap": {},
     "title": ""
    }
   },
   "outputs": [
    {
     "output_type": "stream",
     "name": "stdout",
     "output_type": "stream",
     "text": [
      "=== CREATORS ÓRFÃOS ===\n'yt_users' que estão na tabela silver_posts_creator mas não estão na tabela users_yt:\n+-----------------+----------+\n|yt_user          |post_count|\n+-----------------+----------+\n|CanalKondZilla   |334       |\n|DottieChicken    |1         |\n|GallinaPintadita |2         |\n|LuisitoComunica  |127       |\n|MoreZoella       |43        |\n|checkgate        |248       |\n|raywilliamjohnson|646       |\n|tedtalksdirector |326       |\n|tedx Talks       |9041      |\n+-----------------+----------+\n\n"
     ]
    },
    {
     "output_type": "display_data",
     "data": {
      "text/plain": [
       ""
      ]
     },
     "metadata": {
      "application/vnd.databricks.v1+output": {
       "addedWidgets": {},
       "arguments": {},
       "datasetInfos": [],
       "jupyterProps": null,
       "metadata": {
        "errorSummary": ""
       },
       "removedWidgets": [],
       "sqlProps": null,
       "stackFrames": [],
       "type": "baseError"
      }
     },
     "output_type": "display_data"
    }
   ],
   "source": [
    "# SELECT \n",
    "#   s.yt_user,\n",
    "#   COUNT(*) as post_count\n",
    "# FROM default.silver_post_creator s\n",
    "# LEFT ANTI JOIN default.users_yt u ON s.yt_user = u.user_id\n",
    "# WHERE s.yt_user IS NOT NULL\n",
    "# GROUP BY s.yt_user\n",
    "# ORDER BY s.yt_user;\n",
    "\n",
    "orphan_users = silver_posts_creator.select(\"yt_user\").distinct().join(\n",
    "    users_yt.select(\"user_id\"),\n",
    "    silver_posts_creator.yt_user == users_yt.user_id,\n",
    "    \"left_anti\"\n",
    ").filter(\n",
    "    F.col(\"yt_user\").isNotNull()\n",
    ")\n",
    "\n",
    "orphan_with_counts = orphan_users.join(\n",
    "    silver_posts_creator.groupBy(\"yt_user\").count().withColumnRenamed(\"count\", \"post_count\"),\n",
    "    \"yt_user\"\n",
    ").orderBy(\"yt_user\")\n",
    "\n",
    "print(\"=== CREATORS ÓRFÃOS ===\")\n",
    "print(\"'yt_users' que estão na tabela silver_posts_creator mas não estão na tabela users_yt:\")\n",
    "orphan_with_counts.show(50, truncate=False)"
   ]
  },
  {
   "cell_type": "markdown",
   "metadata": {
    "application/vnd.databricks.v1+cell": {
     "cellMetadata": {
      "byteLimit": 2048000,
      "rowLimit": 10000
     },
     "inputWidgets": {},
     "nuid": "44937a95-91d8-4022-9561-69aefa17c6d9",
     "showTitle": false,
     "tableResultSettingsMap": {},
     "title": ""
    }
   },
   "source": [
    "## Publicações por Mês de Cada Creator"
   ]
  },
  {
   "cell_type": "code",
   "execution_count": 0,
   "metadata": {
    "application/vnd.databricks.v1+cell": {
     "cellMetadata": {
      "byteLimit": 2048000,
      "rowLimit": 10000
     },
     "inputWidgets": {},
     "nuid": "a881b567-1aad-4fc9-bc1c-bb70c3a1acbc",
     "showTitle": false,
     "tableResultSettingsMap": {},
     "title": ""
    }
   },
   "outputs": [
    {
     "output_type": "stream",
     "name": "stdout",
     "output_type": "stream",
     "text": [
      "=== PUBLICAÇÕES POR MÊS ===\nResumo de publicações mensais por creator:\n+--------------+-----------+------------------+----------+\n|       user_id|total_posts|      media_mensal|max_mensal|\n+--------------+-----------+------------------+----------+\n|    luccasneto|        492| 37.84615384615385|        56|\n|    felipeneto|        374| 28.76923076923077|        71|\n|portadosfundos|        312|              24.0|        28|\n|     Pirulla25|         66| 5.076923076923077|         8|\n|     PewDiePie|         33|2.5384615384615383|         4|\n+--------------+-----------+------------------+----------+\n\n"
     ]
    },
    {
     "output_type": "display_data",
     "data": {
      "text/plain": [
       ""
      ]
     },
     "metadata": {
      "application/vnd.databricks.v1+output": {
       "addedWidgets": {},
       "arguments": {},
       "datasetInfos": [],
       "jupyterProps": null,
       "metadata": {
        "errorSummary": ""
       },
       "removedWidgets": [],
       "sqlProps": null,
       "stackFrames": [],
       "type": "baseError"
      }
     },
     "output_type": "display_data"
    }
   ],
   "source": [
    "# SELECT \n",
    "#   user_id,\n",
    "#   SUM(post_count) as total_posts,\n",
    "#   AVG(post_count) as avg_monthly_posts,\n",
    "#   MAX(post_count) as max_monthly_posts\n",
    "# FROM (\n",
    "#   SELECT \n",
    "#     u.user_id,\n",
    "#     DATE_FORMAT(s.published_at, 'yyyy-MM') as year_month,\n",
    "#     COUNT(*) as post_count\n",
    "#   FROM default.silver_post_creator s\n",
    "#   INNER JOIN default.users_yt u ON s.yt_user = u.user_id\n",
    "#   GROUP BY u.user_id, DATE_FORMAT(s.published_at, 'yyyy-MM')\n",
    "# )\n",
    "# GROUP BY user_id\n",
    "# ORDER BY total_posts DESC;\n",
    "\n",
    "monthly_data = joined_data.filter(\n",
    "    F.col(\"user_id\").isNotNull()\n",
    ").withColumn(\n",
    "    \"year_month\", F.date_format(F.col(\"published_at\"), \"yyyy-MM\")\n",
    ")\n",
    "\n",
    "monthly_counts = monthly_data.groupBy(\"user_id\", \"year_month\").count()\n",
    "all_months = monthly_data.select(\"year_month\").distinct()\n",
    "all_users = monthly_data.select(\"user_id\").distinct()\n",
    "all_combinations = all_users.crossJoin(all_months)\n",
    "complete_monthly_data = all_combinations.join(\n",
    "    monthly_counts,\n",
    "    [\"user_id\", \"year_month\"],\n",
    "    \"left\"\n",
    ").fillna(0, subset=[\"count\"])\n",
    "\n",
    "print(\"=== PUBLICAÇÕES POR MÊS ===\")\n",
    "print(\"Resumo de publicações mensais por creator:\")\n",
    "\n",
    "monthly_summary = complete_monthly_data.groupBy(\"user_id\").agg(\n",
    "    F.sum(\"count\").alias(\"total_posts\"),\n",
    "    F.avg(\"count\").alias(\"media_mensal\"),\n",
    "    F.max(\"count\").alias(\"max_mensal\")\n",
    ").orderBy(\"total_posts\", ascending=False)\n",
    "\n",
    "monthly_summary.show(20)"
   ]
  },
  {
   "cell_type": "markdown",
   "metadata": {
    "application/vnd.databricks.v1+cell": {
     "cellMetadata": {
      "byteLimit": 2048000,
      "rowLimit": 10000
     },
     "inputWidgets": {},
     "nuid": "71509aa5-44e2-4d99-9c10-91944705e639",
     "showTitle": false,
     "tableResultSettingsMap": {},
     "title": ""
    }
   },
   "source": [
    "## Publicações por Mês"
   ]
  },
  {
   "cell_type": "code",
   "execution_count": 0,
   "metadata": {
    "application/vnd.databricks.v1+cell": {
     "cellMetadata": {
      "byteLimit": 2048000,
      "rowLimit": 10000
     },
     "inputWidgets": {},
     "nuid": "774664f0-abde-4ca5-bc03-6aad933e5034",
     "showTitle": false,
     "tableResultSettingsMap": {},
     "title": ""
    }
   },
   "outputs": [
    {
     "output_type": "stream",
     "name": "stdout",
     "output_type": "stream",
     "text": [
      "=== PUBLICAÇÕES POR MÊS ===\nTabela pivot: 5 creators x 13 meses\n\nTabela pivot completa (user_id nas linhas, meses nas colunas):\n+--------------+-------+-------+-------+-------+-------+-------+-------+-------+-------+-------+-------+-------+-------+\n|user_id       |2023-04|2023-05|2023-06|2023-07|2023-08|2023-09|2023-10|2023-11|2023-12|2024-01|2024-02|2024-03|2024-04|\n+--------------+-------+-------+-------+-------+-------+-------+-------+-------+-------+-------+-------+-------+-------+\n|PewDiePie     |1      |3      |3      |0      |2      |4      |3      |4      |3      |2      |3      |4      |1      |\n|Pirulla25     |5      |3      |5      |7      |5      |7      |4      |5      |8      |6      |3      |6      |2      |\n|felipeneto    |18     |39     |30     |35     |39     |28     |22     |25     |21     |0      |71     |36     |10     |\n|luccasneto    |27     |56     |44     |48     |28     |32     |18     |45     |46     |45     |37     |43     |23     |\n|portadosfundos|12     |28     |27     |27     |27     |26     |28     |25     |27     |26     |23     |25     |11     |\n+--------------+-------+-------+-------+-------+-------+-------+-------+-------+-------+-------+-------+-------+-------+\n\n"
     ]
    },
    {
     "output_type": "display_data",
     "data": {
      "text/plain": [
       ""
      ]
     },
     "metadata": {
      "application/vnd.databricks.v1+output": {
       "addedWidgets": {},
       "arguments": {},
       "datasetInfos": [],
       "jupyterProps": null,
       "metadata": {
        "errorSummary": ""
       },
       "removedWidgets": [],
       "sqlProps": null,
       "stackFrames": [],
       "type": "baseError"
      }
     },
     "output_type": "display_data"
    }
   ],
   "source": [
    "complete_monthly_pandas = complete_monthly_data.toPandas()\n",
    "\n",
    "pivot_table = complete_monthly_pandas.pivot(\n",
    "    index='user_id', \n",
    "    columns='year_month', \n",
    "    values='count'\n",
    ").fillna(0).astype(int)\n",
    "\n",
    "print(\"=== PUBLICAÇÕES POR MÊS ===\")\n",
    "print(f\"Tabela pivot: {len(pivot_table)} creators x {len(pivot_table.columns)} meses\")\n",
    "print(\"\\nTabela pivot completa (user_id nas linhas, meses nas colunas):\")\n",
    "\n",
    "pivot_spark_df = spark.createDataFrame(\n",
    "    pivot_table.reset_index().rename_axis(None, axis=1)\n",
    ")\n",
    "\n",
    "pivot_spark_df.show(20, truncate=False)"
   ]
  }
 ],
 "metadata": {
  "application/vnd.databricks.v1+notebook": {
   "computePreferences": {
    "hardware": {
     "accelerator": null,
     "gpuPoolId": null,
     "memory": null
    }
   },
   "dashboards": [],
   "environmentMetadata": null,
   "inputWidgetPreferences": null,
   "language": "python",
   "notebookMetadata": {
    "pythonIndentUnit": 4
   },
   "notebookName": "analyze_creators",
   "widgets": {}
  },
  "language_info": {
   "name": "python"
  }
 },
 "nbformat": 4,
 "nbformat_minor": 0
}